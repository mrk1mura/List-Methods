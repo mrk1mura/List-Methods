{
 "cells": [
  {
   "cell_type": "code",
   "execution_count": 1,
   "id": "c75efbcb-a2ca-4c50-ba4f-06dce6cb0cb2",
   "metadata": {},
   "outputs": [],
   "source": [
    "list =[1,2,3,4,5]"
   ]
  },
  {
   "cell_type": "markdown",
   "id": "98a9bd60-4c3c-41d2-95f9-4b4af5c88c4f",
   "metadata": {},
   "source": [
    "# .append metodu liste içine eklemizi sağlar."
   ]
  },
  {
   "cell_type": "code",
   "execution_count": 4,
   "id": "105a4447-424d-4f99-9841-a64ed1ec963b",
   "metadata": {},
   "outputs": [
    {
     "data": {
      "text/plain": [
       "[1, 2, 3, 4, 5]"
      ]
     },
     "execution_count": 4,
     "metadata": {},
     "output_type": "execute_result"
    }
   ],
   "source": [
    "list"
   ]
  },
  {
   "cell_type": "code",
   "execution_count": 10,
   "id": "a8f8fc98-55a5-4e13-b2d9-343fbea93140",
   "metadata": {},
   "outputs": [],
   "source": [
    "list.append(6)"
   ]
  },
  {
   "cell_type": "code",
   "execution_count": 12,
   "id": "9bbaeec9-10e9-452e-b645-20aa4bbee2ea",
   "metadata": {},
   "outputs": [
    {
     "data": {
      "text/plain": [
       "[1, 2, 3, 4, 5, 6]"
      ]
     },
     "execution_count": 12,
     "metadata": {},
     "output_type": "execute_result"
    }
   ],
   "source": [
    "list"
   ]
  },
  {
   "cell_type": "code",
   "execution_count": 14,
   "id": "64848797-138e-4f40-aea5-39c28cd8fc47",
   "metadata": {},
   "outputs": [],
   "source": [
    "list.append(7)"
   ]
  },
  {
   "cell_type": "code",
   "execution_count": 16,
   "id": "1601ca69-f6c0-47f8-9ef5-0295588143b4",
   "metadata": {},
   "outputs": [
    {
     "data": {
      "text/plain": [
       "[1, 2, 3, 4, 5, 6, 7]"
      ]
     },
     "execution_count": 16,
     "metadata": {},
     "output_type": "execute_result"
    }
   ],
   "source": [
    "list"
   ]
  },
  {
   "cell_type": "markdown",
   "id": "20e3ce16-3b14-4f7d-8aea-6e2e93e56778",
   "metadata": {},
   "source": [
    "# .pop metodu liste içine yaptığın eklemeyi silmeye yarar"
   ]
  },
  {
   "cell_type": "code",
   "execution_count": 19,
   "id": "a177a83e-3d65-4173-b53a-ceac0a43a6d2",
   "metadata": {},
   "outputs": [
    {
     "data": {
      "text/plain": [
       "7"
      ]
     },
     "execution_count": 19,
     "metadata": {},
     "output_type": "execute_result"
    }
   ],
   "source": [
    "list.pop()\n"
   ]
  },
  {
   "cell_type": "code",
   "execution_count": 21,
   "id": "093f6cb9-0eed-4d3b-8bbb-c9216a65911d",
   "metadata": {},
   "outputs": [
    {
     "data": {
      "text/plain": [
       "6"
      ]
     },
     "execution_count": 21,
     "metadata": {},
     "output_type": "execute_result"
    }
   ],
   "source": [
    "list.pop()"
   ]
  },
  {
   "cell_type": "code",
   "execution_count": 23,
   "id": "bd7eaa89-a214-4625-b93f-bf4360a41af4",
   "metadata": {},
   "outputs": [
    {
     "data": {
      "text/plain": [
       "[1, 2, 3, 4, 5]"
      ]
     },
     "execution_count": 23,
     "metadata": {},
     "output_type": "execute_result"
    }
   ],
   "source": [
    "list"
   ]
  },
  {
   "cell_type": "markdown",
   "id": "e88b3215-4bc8-4c84-9ec2-5b33a62f28af",
   "metadata": {},
   "source": [
    "# .reverse metodu listeyi çeviremeye yarar "
   ]
  },
  {
   "cell_type": "code",
   "execution_count": 36,
   "id": "5bffa912-5b71-4f31-84e2-8ffda9664e05",
   "metadata": {},
   "outputs": [],
   "source": [
    "list.reverse()"
   ]
  },
  {
   "cell_type": "code",
   "execution_count": 38,
   "id": "3b2cbe4e-25ee-437d-8adf-e44a480b36ce",
   "metadata": {},
   "outputs": [
    {
     "data": {
      "text/plain": [
       "[5, 4, 3, 2, 1]"
      ]
     },
     "execution_count": 38,
     "metadata": {},
     "output_type": "execute_result"
    }
   ],
   "source": [
    "list"
   ]
  },
  {
   "cell_type": "code",
   "execution_count": 40,
   "id": "8f253d0e-13ec-41bd-9ca9-8004b1b92af7",
   "metadata": {},
   "outputs": [],
   "source": [
    "list.reverse()"
   ]
  },
  {
   "cell_type": "code",
   "execution_count": 42,
   "id": "048c8486-bcbe-4a93-ab3e-865aaeaf6582",
   "metadata": {},
   "outputs": [
    {
     "data": {
      "text/plain": [
       "[1, 2, 3, 4, 5]"
      ]
     },
     "execution_count": 42,
     "metadata": {},
     "output_type": "execute_result"
    }
   ],
   "source": [
    "list"
   ]
  },
  {
   "cell_type": "code",
   "execution_count": null,
   "id": "bde360b1-dfae-4034-b04e-0d4dfa783834",
   "metadata": {},
   "outputs": [],
   "source": []
  }
 ],
 "metadata": {
  "kernelspec": {
   "display_name": "Python 3 (ipykernel)",
   "language": "python",
   "name": "python3"
  },
  "language_info": {
   "codemirror_mode": {
    "name": "ipython",
    "version": 3
   },
   "file_extension": ".py",
   "mimetype": "text/x-python",
   "name": "python",
   "nbconvert_exporter": "python",
   "pygments_lexer": "ipython3",
   "version": "3.12.4"
  }
 },
 "nbformat": 4,
 "nbformat_minor": 5
}
